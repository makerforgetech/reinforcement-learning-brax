{
  "nbformat": 4,
  "nbformat_minor": 0,
  "metadata": {
    "colab": {
      "provenance": [],
      "machine_shape": "hm",
      "gpuType": "V100",
      "authorship_tag": "ABX9TyPA2MuAmniuYkrwmfXmRoQs",
      "include_colab_link": true
    },
    "kernelspec": {
      "name": "python3",
      "display_name": "Python 3"
    },
    "language_info": {
      "name": "python"
    },
    "accelerator": "GPU",
    "gpuClass": "standard"
  },
  "cells": [
    {
      "cell_type": "markdown",
      "metadata": {
        "id": "view-in-github",
        "colab_type": "text"
      },
      "source": [
        "<a href=\"https://colab.research.google.com/github/sergiynesterenko90/feranec/blob/main/Handwriting.ipynb\" target=\"_parent\"><img src=\"https://colab.research.google.com/assets/colab-badge.svg\" alt=\"Open In Colab\"/></a>"
      ]
    },
    {
      "cell_type": "markdown",
      "source": [
        "# Import the necessary libraries"
      ],
      "metadata": {
        "id": "jeV1D5cXoScg"
      }
    },
    {
      "cell_type": "code",
      "source": [
        "import tensorflow as tf\n",
        "import matplotlib.pyplot as plt\n",
        "import numpy as np"
      ],
      "metadata": {
        "id": "UuTzpHPLoTlE"
      },
      "execution_count": 426,
      "outputs": []
    },
    {
      "cell_type": "code",
      "source": [
        "tf.config.list_physical_devices('GPU')  # check that we actually have a GPU"
      ],
      "metadata": {
        "id": "9V5VRf6dvXuH",
        "outputId": "5fcc2afb-8a9a-4def-b25e-d1d83ecc160f",
        "colab": {
          "base_uri": "https://localhost:8080/"
        }
      },
      "execution_count": 427,
      "outputs": [
        {
          "output_type": "execute_result",
          "data": {
            "text/plain": [
              "[PhysicalDevice(name='/physical_device:GPU:0', device_type='GPU')]"
            ]
          },
          "metadata": {},
          "execution_count": 427
        }
      ]
    },
    {
      "cell_type": "markdown",
      "source": [
        "# Get the handwriting dataset"
      ],
      "metadata": {
        "id": "GdPs_QZCoaFd"
      }
    },
    {
      "cell_type": "code",
      "source": [
        "mnist = tf.keras.datasets.mnist\n",
        "\n",
        "(x_train, y_train), (x_test, y_test) = mnist.load_data()\n",
        "x_train, x_test = x_train / 255.0, x_test / 255.0  # scale the raw data to the 0-1 range"
      ],
      "metadata": {
        "id": "f1EjqD9qLnr5"
      },
      "execution_count": 428,
      "outputs": []
    },
    {
      "cell_type": "code",
      "source": [
        "# x_train = x_train.astype(np.float32)\n",
        "# x_test = x_test.astype(np.float32)"
      ],
      "metadata": {
        "id": "lkp3QFU_LpP5"
      },
      "execution_count": 429,
      "outputs": []
    },
    {
      "cell_type": "markdown",
      "source": [
        "# Look at the raw data"
      ],
      "metadata": {
        "id": "ePPBVEt9ozFg"
      }
    },
    {
      "cell_type": "code",
      "source": [
        "x_train.shape"
      ],
      "metadata": {
        "colab": {
          "base_uri": "https://localhost:8080/"
        },
        "id": "uQXuKDPvLrji",
        "outputId": "542489fe-d324-4117-da37-f12d18efee56"
      },
      "execution_count": 430,
      "outputs": [
        {
          "output_type": "execute_result",
          "data": {
            "text/plain": [
              "(60000, 28, 28)"
            ]
          },
          "metadata": {},
          "execution_count": 430
        }
      ]
    },
    {
      "cell_type": "code",
      "source": [
        "x_train[0]"
      ],
      "metadata": {
        "colab": {
          "base_uri": "https://localhost:8080/"
        },
        "id": "ch-hsIG-Luch",
        "outputId": "7f9443f0-2dcc-4f87-aebd-413adbc1c664"
      },
      "execution_count": 431,
      "outputs": [
        {
          "output_type": "execute_result",
          "data": {
            "text/plain": [
              "array([[0.        , 0.        , 0.        , 0.        , 0.        ,\n",
              "        0.        , 0.        , 0.        , 0.        , 0.        ,\n",
              "        0.        , 0.        , 0.        , 0.        , 0.        ,\n",
              "        0.        , 0.        , 0.        , 0.        , 0.        ,\n",
              "        0.        , 0.        , 0.        , 0.        , 0.        ,\n",
              "        0.        , 0.        , 0.        ],\n",
              "       [0.        , 0.        , 0.        , 0.        , 0.        ,\n",
              "        0.        , 0.        , 0.        , 0.        , 0.        ,\n",
              "        0.        , 0.        , 0.        , 0.        , 0.        ,\n",
              "        0.        , 0.        , 0.        , 0.        , 0.        ,\n",
              "        0.        , 0.        , 0.        , 0.        , 0.        ,\n",
              "        0.        , 0.        , 0.        ],\n",
              "       [0.        , 0.        , 0.        , 0.        , 0.        ,\n",
              "        0.        , 0.        , 0.        , 0.        , 0.        ,\n",
              "        0.        , 0.        , 0.        , 0.        , 0.        ,\n",
              "        0.        , 0.        , 0.        , 0.        , 0.        ,\n",
              "        0.        , 0.        , 0.        , 0.        , 0.        ,\n",
              "        0.        , 0.        , 0.        ],\n",
              "       [0.        , 0.        , 0.        , 0.        , 0.        ,\n",
              "        0.        , 0.        , 0.        , 0.        , 0.        ,\n",
              "        0.        , 0.        , 0.        , 0.        , 0.        ,\n",
              "        0.        , 0.        , 0.        , 0.        , 0.        ,\n",
              "        0.        , 0.        , 0.        , 0.        , 0.        ,\n",
              "        0.        , 0.        , 0.        ],\n",
              "       [0.        , 0.        , 0.        , 0.        , 0.        ,\n",
              "        0.        , 0.        , 0.        , 0.        , 0.        ,\n",
              "        0.        , 0.        , 0.        , 0.        , 0.        ,\n",
              "        0.        , 0.        , 0.        , 0.        , 0.        ,\n",
              "        0.        , 0.        , 0.        , 0.        , 0.        ,\n",
              "        0.        , 0.        , 0.        ],\n",
              "       [0.        , 0.        , 0.        , 0.        , 0.        ,\n",
              "        0.        , 0.        , 0.        , 0.        , 0.        ,\n",
              "        0.        , 0.        , 0.01176471, 0.07058824, 0.07058824,\n",
              "        0.07058824, 0.49411765, 0.53333333, 0.68627451, 0.10196078,\n",
              "        0.65098039, 1.        , 0.96862745, 0.49803922, 0.        ,\n",
              "        0.        , 0.        , 0.        ],\n",
              "       [0.        , 0.        , 0.        , 0.        , 0.        ,\n",
              "        0.        , 0.        , 0.        , 0.11764706, 0.14117647,\n",
              "        0.36862745, 0.60392157, 0.66666667, 0.99215686, 0.99215686,\n",
              "        0.99215686, 0.99215686, 0.99215686, 0.88235294, 0.6745098 ,\n",
              "        0.99215686, 0.94901961, 0.76470588, 0.25098039, 0.        ,\n",
              "        0.        , 0.        , 0.        ],\n",
              "       [0.        , 0.        , 0.        , 0.        , 0.        ,\n",
              "        0.        , 0.        , 0.19215686, 0.93333333, 0.99215686,\n",
              "        0.99215686, 0.99215686, 0.99215686, 0.99215686, 0.99215686,\n",
              "        0.99215686, 0.99215686, 0.98431373, 0.36470588, 0.32156863,\n",
              "        0.32156863, 0.21960784, 0.15294118, 0.        , 0.        ,\n",
              "        0.        , 0.        , 0.        ],\n",
              "       [0.        , 0.        , 0.        , 0.        , 0.        ,\n",
              "        0.        , 0.        , 0.07058824, 0.85882353, 0.99215686,\n",
              "        0.99215686, 0.99215686, 0.99215686, 0.99215686, 0.77647059,\n",
              "        0.71372549, 0.96862745, 0.94509804, 0.        , 0.        ,\n",
              "        0.        , 0.        , 0.        , 0.        , 0.        ,\n",
              "        0.        , 0.        , 0.        ],\n",
              "       [0.        , 0.        , 0.        , 0.        , 0.        ,\n",
              "        0.        , 0.        , 0.        , 0.31372549, 0.61176471,\n",
              "        0.41960784, 0.99215686, 0.99215686, 0.80392157, 0.04313725,\n",
              "        0.        , 0.16862745, 0.60392157, 0.        , 0.        ,\n",
              "        0.        , 0.        , 0.        , 0.        , 0.        ,\n",
              "        0.        , 0.        , 0.        ],\n",
              "       [0.        , 0.        , 0.        , 0.        , 0.        ,\n",
              "        0.        , 0.        , 0.        , 0.        , 0.05490196,\n",
              "        0.00392157, 0.60392157, 0.99215686, 0.35294118, 0.        ,\n",
              "        0.        , 0.        , 0.        , 0.        , 0.        ,\n",
              "        0.        , 0.        , 0.        , 0.        , 0.        ,\n",
              "        0.        , 0.        , 0.        ],\n",
              "       [0.        , 0.        , 0.        , 0.        , 0.        ,\n",
              "        0.        , 0.        , 0.        , 0.        , 0.        ,\n",
              "        0.        , 0.54509804, 0.99215686, 0.74509804, 0.00784314,\n",
              "        0.        , 0.        , 0.        , 0.        , 0.        ,\n",
              "        0.        , 0.        , 0.        , 0.        , 0.        ,\n",
              "        0.        , 0.        , 0.        ],\n",
              "       [0.        , 0.        , 0.        , 0.        , 0.        ,\n",
              "        0.        , 0.        , 0.        , 0.        , 0.        ,\n",
              "        0.        , 0.04313725, 0.74509804, 0.99215686, 0.2745098 ,\n",
              "        0.        , 0.        , 0.        , 0.        , 0.        ,\n",
              "        0.        , 0.        , 0.        , 0.        , 0.        ,\n",
              "        0.        , 0.        , 0.        ],\n",
              "       [0.        , 0.        , 0.        , 0.        , 0.        ,\n",
              "        0.        , 0.        , 0.        , 0.        , 0.        ,\n",
              "        0.        , 0.        , 0.1372549 , 0.94509804, 0.88235294,\n",
              "        0.62745098, 0.42352941, 0.00392157, 0.        , 0.        ,\n",
              "        0.        , 0.        , 0.        , 0.        , 0.        ,\n",
              "        0.        , 0.        , 0.        ],\n",
              "       [0.        , 0.        , 0.        , 0.        , 0.        ,\n",
              "        0.        , 0.        , 0.        , 0.        , 0.        ,\n",
              "        0.        , 0.        , 0.        , 0.31764706, 0.94117647,\n",
              "        0.99215686, 0.99215686, 0.46666667, 0.09803922, 0.        ,\n",
              "        0.        , 0.        , 0.        , 0.        , 0.        ,\n",
              "        0.        , 0.        , 0.        ],\n",
              "       [0.        , 0.        , 0.        , 0.        , 0.        ,\n",
              "        0.        , 0.        , 0.        , 0.        , 0.        ,\n",
              "        0.        , 0.        , 0.        , 0.        , 0.17647059,\n",
              "        0.72941176, 0.99215686, 0.99215686, 0.58823529, 0.10588235,\n",
              "        0.        , 0.        , 0.        , 0.        , 0.        ,\n",
              "        0.        , 0.        , 0.        ],\n",
              "       [0.        , 0.        , 0.        , 0.        , 0.        ,\n",
              "        0.        , 0.        , 0.        , 0.        , 0.        ,\n",
              "        0.        , 0.        , 0.        , 0.        , 0.        ,\n",
              "        0.0627451 , 0.36470588, 0.98823529, 0.99215686, 0.73333333,\n",
              "        0.        , 0.        , 0.        , 0.        , 0.        ,\n",
              "        0.        , 0.        , 0.        ],\n",
              "       [0.        , 0.        , 0.        , 0.        , 0.        ,\n",
              "        0.        , 0.        , 0.        , 0.        , 0.        ,\n",
              "        0.        , 0.        , 0.        , 0.        , 0.        ,\n",
              "        0.        , 0.        , 0.97647059, 0.99215686, 0.97647059,\n",
              "        0.25098039, 0.        , 0.        , 0.        , 0.        ,\n",
              "        0.        , 0.        , 0.        ],\n",
              "       [0.        , 0.        , 0.        , 0.        , 0.        ,\n",
              "        0.        , 0.        , 0.        , 0.        , 0.        ,\n",
              "        0.        , 0.        , 0.        , 0.        , 0.18039216,\n",
              "        0.50980392, 0.71764706, 0.99215686, 0.99215686, 0.81176471,\n",
              "        0.00784314, 0.        , 0.        , 0.        , 0.        ,\n",
              "        0.        , 0.        , 0.        ],\n",
              "       [0.        , 0.        , 0.        , 0.        , 0.        ,\n",
              "        0.        , 0.        , 0.        , 0.        , 0.        ,\n",
              "        0.        , 0.        , 0.15294118, 0.58039216, 0.89803922,\n",
              "        0.99215686, 0.99215686, 0.99215686, 0.98039216, 0.71372549,\n",
              "        0.        , 0.        , 0.        , 0.        , 0.        ,\n",
              "        0.        , 0.        , 0.        ],\n",
              "       [0.        , 0.        , 0.        , 0.        , 0.        ,\n",
              "        0.        , 0.        , 0.        , 0.        , 0.        ,\n",
              "        0.09411765, 0.44705882, 0.86666667, 0.99215686, 0.99215686,\n",
              "        0.99215686, 0.99215686, 0.78823529, 0.30588235, 0.        ,\n",
              "        0.        , 0.        , 0.        , 0.        , 0.        ,\n",
              "        0.        , 0.        , 0.        ],\n",
              "       [0.        , 0.        , 0.        , 0.        , 0.        ,\n",
              "        0.        , 0.        , 0.        , 0.09019608, 0.25882353,\n",
              "        0.83529412, 0.99215686, 0.99215686, 0.99215686, 0.99215686,\n",
              "        0.77647059, 0.31764706, 0.00784314, 0.        , 0.        ,\n",
              "        0.        , 0.        , 0.        , 0.        , 0.        ,\n",
              "        0.        , 0.        , 0.        ],\n",
              "       [0.        , 0.        , 0.        , 0.        , 0.        ,\n",
              "        0.        , 0.07058824, 0.67058824, 0.85882353, 0.99215686,\n",
              "        0.99215686, 0.99215686, 0.99215686, 0.76470588, 0.31372549,\n",
              "        0.03529412, 0.        , 0.        , 0.        , 0.        ,\n",
              "        0.        , 0.        , 0.        , 0.        , 0.        ,\n",
              "        0.        , 0.        , 0.        ],\n",
              "       [0.        , 0.        , 0.        , 0.        , 0.21568627,\n",
              "        0.6745098 , 0.88627451, 0.99215686, 0.99215686, 0.99215686,\n",
              "        0.99215686, 0.95686275, 0.52156863, 0.04313725, 0.        ,\n",
              "        0.        , 0.        , 0.        , 0.        , 0.        ,\n",
              "        0.        , 0.        , 0.        , 0.        , 0.        ,\n",
              "        0.        , 0.        , 0.        ],\n",
              "       [0.        , 0.        , 0.        , 0.        , 0.53333333,\n",
              "        0.99215686, 0.99215686, 0.99215686, 0.83137255, 0.52941176,\n",
              "        0.51764706, 0.0627451 , 0.        , 0.        , 0.        ,\n",
              "        0.        , 0.        , 0.        , 0.        , 0.        ,\n",
              "        0.        , 0.        , 0.        , 0.        , 0.        ,\n",
              "        0.        , 0.        , 0.        ],\n",
              "       [0.        , 0.        , 0.        , 0.        , 0.        ,\n",
              "        0.        , 0.        , 0.        , 0.        , 0.        ,\n",
              "        0.        , 0.        , 0.        , 0.        , 0.        ,\n",
              "        0.        , 0.        , 0.        , 0.        , 0.        ,\n",
              "        0.        , 0.        , 0.        , 0.        , 0.        ,\n",
              "        0.        , 0.        , 0.        ],\n",
              "       [0.        , 0.        , 0.        , 0.        , 0.        ,\n",
              "        0.        , 0.        , 0.        , 0.        , 0.        ,\n",
              "        0.        , 0.        , 0.        , 0.        , 0.        ,\n",
              "        0.        , 0.        , 0.        , 0.        , 0.        ,\n",
              "        0.        , 0.        , 0.        , 0.        , 0.        ,\n",
              "        0.        , 0.        , 0.        ],\n",
              "       [0.        , 0.        , 0.        , 0.        , 0.        ,\n",
              "        0.        , 0.        , 0.        , 0.        , 0.        ,\n",
              "        0.        , 0.        , 0.        , 0.        , 0.        ,\n",
              "        0.        , 0.        , 0.        , 0.        , 0.        ,\n",
              "        0.        , 0.        , 0.        , 0.        , 0.        ,\n",
              "        0.        , 0.        , 0.        ]])"
            ]
          },
          "metadata": {},
          "execution_count": 431
        }
      ]
    },
    {
      "cell_type": "markdown",
      "source": [
        "# Plot a few of the images"
      ],
      "metadata": {
        "id": "v7rBBp0dpHp5"
      }
    },
    {
      "cell_type": "code",
      "source": [
        "for N in range(10):\n",
        "  print(\"Label:\", y_train[N])\n",
        "  plt.imshow(x_train[N], cmap=\"gray\")\n",
        "  plt.show()"
      ],
      "metadata": {
        "colab": {
          "base_uri": "https://localhost:8080/",
          "height": 1000
        },
        "id": "vjJAZ2gsLv4C",
        "outputId": "725e1005-8ec8-4198-8331-ad4fe00f24b9"
      },
      "execution_count": 432,
      "outputs": [
        {
          "output_type": "stream",
          "name": "stdout",
          "text": [
            "Label: 5\n"
          ]
        },
        {
          "output_type": "display_data",
          "data": {
            "text/plain": [
              "<Figure size 640x480 with 1 Axes>"
            ],
            "image/png": "[encoded data removed]"
          },
          "metadata": {}
        },
        {
          "output_type": "stream",
          "name": "stdout",
          "text": [
            "Label: 0\n"
          ]
        },
        {
          "output_type": "display_data",
          "data": {
            "text/plain": [
              "<Figure size 640x480 with 1 Axes>"
            ],
            "image/png": "[encoded data removed]"
          },
          "metadata": {}
        },
        {
          "output_type": "stream",
          "name": "stdout",
          "text": [
            "Label: 4\n"
          ]
        },
        {
          "output_type": "display_data",
          "data": {
            "text/plain": [
              "<Figure size 640x480 with 1 Axes>"
            ],
            "image/png": "[encoded data removed]"
          },
          "metadata": {}
        },
        {
          "output_type": "stream",
          "name": "stdout",
          "text": [
            "Label: 1\n"
          ]
        },
        {
          "output_type": "display_data",
          "data": {
            "text/plain": [
              "<Figure size 640x480 with 1 Axes>"
            ],
            "image/png": "[encoded data removed]"
          },
          "metadata": {}
        },
        {
          "output_type": "stream",
          "name": "stdout",
          "text": [
            "Label: 9\n"
          ]
        },
        {
          "output_type": "display_data",
          "data": {
            "text/plain": [
              "<Figure size 640x480 with 1 Axes>"
            ],
            "image/png": "[encoded data removed]"
          },
          "metadata": {}
        },
        {
          "output_type": "stream",
          "name": "stdout",
          "text": [
            "Label: 2\n"
          ]
        },
        {
          "output_type": "display_data",
          "data": {
            "text/plain": [
              "<Figure size 640x480 with 1 Axes>"
            ],
            "image/png": "[encoded data removed]"
          },
          "metadata": {}
        },
        {
          "output_type": "stream",
          "name": "stdout",
          "text": [
            "Label: 1\n"
          ]
        },
        {
          "output_type": "display_data",
          "data": {
            "text/plain": [
              "<Figure size 640x480 with 1 Axes>"
            ],
            "image/png": "[encoded data removed]"
          },
          "metadata": {}
        },
        {
          "output_type": "stream",
          "name": "stdout",
          "text": [
            "Label: 3\n"
          ]
        },
        {
          "output_type": "display_data",
          "data": {
            "text/plain": [
              "<Figure size 640x480 with 1 Axes>"
            ],
            "image/png": "[encoded data removed]"
          },
          "metadata": {}
        },
        {
          "output_type": "stream",
          "name": "stdout",
          "text": [
            "Label: 1\n"
          ]
        },
        {
          "output_type": "display_data",
          "data": {
            "text/plain": [
              "<Figure size 640x480 with 1 Axes>"
            ],
            "image/png": "[encoded data removed]"
          },
          "metadata": {}
        },
        {
          "output_type": "stream",
          "name": "stdout",
          "text": [
            "Label: 4\n"
          ]
        },
        {
          "output_type": "display_data",
          "data": {
            "text/plain": [
              "<Figure size 640x480 with 1 Axes>"
            ],
            "image/png": "[encoded data removed]"
          },
          "metadata": {}
        }
      ]
    },
    {
      "cell_type": "markdown",
      "source": [
        "# Create the Neural Network"
      ],
      "metadata": {
        "id": "8Ky8cBQWpPc7"
      }
    },
    {
      "cell_type": "code",
      "source": [
        "model = tf.keras.models.Sequential(\n",
        "    [\n",
        "        tf.keras.layers.Flatten(input_shape=(28, 28)),\n",
        "        tf.keras.layers.Dense(256, activation=\"relu\"),\n",
        "        tf.keras.layers.Dropout(0.2),\n",
        "        tf.keras.layers.Dense(128, activation=\"relu\"),\n",
        "        tf.keras.layers.Dropout(0.2),\n",
        "        tf.keras.layers.Dense(10)\n",
        "    ]\n",
        ")"
      ],
      "metadata": {
        "id": "kfWZ1OeeLyW9"
      },
      "execution_count": 433,
      "outputs": []
    },
    {
      "cell_type": "markdown",
      "source": [
        "# Show how to make predictions (before training the net)"
      ],
      "metadata": {
        "id": "fxOOaXMMpWbT"
      }
    },
    {
      "cell_type": "code",
      "source": [
        "predictions = model(x_train[:1])\n",
        "predictions"
      ],
      "metadata": {
        "colab": {
          "base_uri": "https://localhost:8080/"
        },
        "id": "Q5B7PKaMLzk0",
        "outputId": "e18df452-5137-400d-95d4-83366a54a93c"
      },
      "execution_count": 434,
      "outputs": [
        {
          "output_type": "execute_result",
          "data": {
            "text/plain": [
              "<tf.Tensor: shape=(1, 10), dtype=float32, numpy=\n",
              "array([[-0.19203529,  0.57329535, -0.01728807,  0.20106818, -0.44090205,\n",
              "        -0.14349364, -0.00350665,  0.47954336,  0.11090267, -0.5372627 ]],\n",
              "      dtype=float32)>"
            ]
          },
          "metadata": {},
          "execution_count": 434
        }
      ]
    },
    {
      "cell_type": "code",
      "source": [
        "tf.nn.softmax(predictions)"
      ],
      "metadata": {
        "colab": {
          "base_uri": "https://localhost:8080/"
        },
        "id": "Lbe-qNxAL1Vc",
        "outputId": "15f413b8-9595-415b-bb2e-a23acc322b26"
      },
      "execution_count": 435,
      "outputs": [
        {
          "output_type": "execute_result",
          "data": {
            "text/plain": [
              "<tf.Tensor: shape=(1, 10), dtype=float32, numpy=\n",
              "array([[0.07764981, 0.16692418, 0.09247666, 0.11504376, 0.06054231,\n",
              "        0.08151204, 0.09375994, 0.1519859 , 0.10512467, 0.05498067]],\n",
              "      dtype=float32)>"
            ]
          },
          "metadata": {},
          "execution_count": 435
        }
      ]
    },
    {
      "cell_type": "code",
      "source": [
        "loss_fn = tf.keras.losses.SparseCategoricalCrossentropy(from_logits=True)"
      ],
      "metadata": {
        "id": "vB5HmfxArerW"
      },
      "execution_count": 436,
      "outputs": []
    },
    {
      "cell_type": "code",
      "source": [
        "loss_fn(y_train[:1], predictions)"
      ],
      "metadata": {
        "colab": {
          "base_uri": "https://localhost:8080/"
        },
        "id": "u0hHyE_4L4qR",
        "outputId": "9c4bad10-9441-4477-daaf-a4e8043ee097"
      },
      "execution_count": 437,
      "outputs": [
        {
          "output_type": "execute_result",
          "data": {
            "text/plain": [
              "<tf.Tensor: shape=(), dtype=float32, numpy=2.5070045>"
            ]
          },
          "metadata": {},
          "execution_count": 437
        }
      ]
    },
    {
      "cell_type": "code",
      "source": [
        "optimizer = tf.keras.optimizers.Adam(learning_rate=1e-3)\n",
        "\n",
        "model.compile(optimizer=optimizer, loss=loss_fn, metrics=[\"accuracy\"], jit_compile=True)"
      ],
      "metadata": {
        "id": "0Ib9VlWXL52E"
      },
      "execution_count": 438,
      "outputs": []
    },
    {
      "cell_type": "code",
      "source": [
        "history = model.fit(x_train, y_train, epochs=100, validation_split=0.2, batch_size=2400)"
      ],
      "metadata": {
        "colab": {
          "base_uri": "https://localhost:8080/"
        },
        "id": "IAwp4K43L6-L",
        "outputId": "74b6b103-3f6c-4044-f1ba-4a37a62fcd3f"
      },
      "execution_count": 439,
      "outputs": [
        {
          "output_type": "stream",
          "name": "stdout",
          "text": [
            "Epoch 1/100\n",
            "20/20 [==============================] - 2s 34ms/step - loss: 1.2742 - accuracy: 0.6402 - val_loss: 0.4168 - val_accuracy: 0.8827\n",
            "Epoch 2/100\n",
            "20/20 [==============================] - 0s 9ms/step - loss: 0.4570 - accuracy: 0.8597 - val_loss: 0.2764 - val_accuracy: 0.9193\n",
            "Epoch 3/100\n",
            "20/20 [==============================] - 0s 7ms/step - loss: 0.3223 - accuracy: 0.9055 - val_loss: 0.2219 - val_accuracy: 0.9336\n",
            "Epoch 4/100\n",
            "20/20 [==============================] - 0s 7ms/step - loss: 0.2623 - accuracy: 0.9235 - val_loss: 0.1872 - val_accuracy: 0.9448\n",
            "Epoch 5/100\n",
            "20/20 [==============================] - 0s 7ms/step - loss: 0.2238 - accuracy: 0.9341 - val_loss: 0.1641 - val_accuracy: 0.9522\n",
            "Epoch 6/100\n",
            "20/20 [==============================] - 0s 7ms/step - loss: 0.1977 - accuracy: 0.9427 - val_loss: 0.1478 - val_accuracy: 0.9572\n",
            "Epoch 7/100\n",
            "20/20 [==============================] - 0s 7ms/step - loss: 0.1749 - accuracy: 0.9478 - val_loss: 0.1336 - val_accuracy: 0.9607\n",
            "Epoch 8/100\n",
            "20/20 [==============================] - 0s 7ms/step - loss: 0.1574 - accuracy: 0.9530 - val_loss: 0.1266 - val_accuracy: 0.9615\n",
            "Epoch 9/100\n",
            "20/20 [==============================] - 0s 7ms/step - loss: 0.1418 - accuracy: 0.9573 - val_loss: 0.1187 - val_accuracy: 0.9646\n",
            "Epoch 10/100\n",
            "20/20 [==============================] - 0s 9ms/step - loss: 0.1296 - accuracy: 0.9615 - val_loss: 0.1117 - val_accuracy: 0.9662\n",
            "Epoch 11/100\n",
            "20/20 [==============================] - 0s 7ms/step - loss: 0.1209 - accuracy: 0.9637 - val_loss: 0.1066 - val_accuracy: 0.9677\n",
            "Epoch 12/100\n",
            "20/20 [==============================] - 0s 7ms/step - loss: 0.1097 - accuracy: 0.9676 - val_loss: 0.1015 - val_accuracy: 0.9692\n",
            "Epoch 13/100\n",
            "20/20 [==============================] - 0s 7ms/step - loss: 0.1031 - accuracy: 0.9691 - val_loss: 0.0983 - val_accuracy: 0.9696\n",
            "Epoch 14/100\n",
            "20/20 [==============================] - 0s 7ms/step - loss: 0.0947 - accuracy: 0.9715 - val_loss: 0.0942 - val_accuracy: 0.9711\n",
            "Epoch 15/100\n",
            "20/20 [==============================] - 0s 7ms/step - loss: 0.0893 - accuracy: 0.9729 - val_loss: 0.0914 - val_accuracy: 0.9704\n",
            "Epoch 16/100\n",
            "20/20 [==============================] - 0s 6ms/step - loss: 0.0822 - accuracy: 0.9761 - val_loss: 0.0890 - val_accuracy: 0.9722\n",
            "Epoch 17/100\n",
            "20/20 [==============================] - 0s 7ms/step - loss: 0.0770 - accuracy: 0.9766 - val_loss: 0.0858 - val_accuracy: 0.9740\n",
            "Epoch 18/100\n",
            "20/20 [==============================] - 0s 6ms/step - loss: 0.0724 - accuracy: 0.9778 - val_loss: 0.0840 - val_accuracy: 0.9739\n",
            "Epoch 19/100\n",
            "20/20 [==============================] - 0s 6ms/step - loss: 0.0684 - accuracy: 0.9793 - val_loss: 0.0839 - val_accuracy: 0.9737\n",
            "Epoch 20/100\n",
            "20/20 [==============================] - 0s 7ms/step - loss: 0.0648 - accuracy: 0.9805 - val_loss: 0.0820 - val_accuracy: 0.9757\n",
            "Epoch 21/100\n",
            "20/20 [==============================] - 0s 7ms/step - loss: 0.0616 - accuracy: 0.9815 - val_loss: 0.0811 - val_accuracy: 0.9754\n",
            "Epoch 22/100\n",
            "20/20 [==============================] - 0s 6ms/step - loss: 0.0586 - accuracy: 0.9822 - val_loss: 0.0790 - val_accuracy: 0.9759\n",
            "Epoch 23/100\n",
            "20/20 [==============================] - 0s 7ms/step - loss: 0.0555 - accuracy: 0.9826 - val_loss: 0.0792 - val_accuracy: 0.9769\n",
            "Epoch 24/100\n",
            "20/20 [==============================] - 0s 6ms/step - loss: 0.0528 - accuracy: 0.9842 - val_loss: 0.0778 - val_accuracy: 0.9762\n",
            "Epoch 25/100\n",
            "20/20 [==============================] - 0s 7ms/step - loss: 0.0503 - accuracy: 0.9847 - val_loss: 0.0769 - val_accuracy: 0.9772\n",
            "Epoch 26/100\n",
            "20/20 [==============================] - 0s 7ms/step - loss: 0.0467 - accuracy: 0.9858 - val_loss: 0.0766 - val_accuracy: 0.9768\n",
            "Epoch 27/100\n",
            "20/20 [==============================] - 0s 7ms/step - loss: 0.0453 - accuracy: 0.9865 - val_loss: 0.0757 - val_accuracy: 0.9770\n",
            "Epoch 28/100\n",
            "20/20 [==============================] - 0s 7ms/step - loss: 0.0429 - accuracy: 0.9871 - val_loss: 0.0755 - val_accuracy: 0.9781\n",
            "Epoch 29/100\n",
            "20/20 [==============================] - 0s 7ms/step - loss: 0.0406 - accuracy: 0.9877 - val_loss: 0.0753 - val_accuracy: 0.9776\n",
            "Epoch 30/100\n",
            "20/20 [==============================] - 0s 7ms/step - loss: 0.0370 - accuracy: 0.9886 - val_loss: 0.0743 - val_accuracy: 0.9780\n",
            "Epoch 31/100\n",
            "20/20 [==============================] - 0s 7ms/step - loss: 0.0371 - accuracy: 0.9883 - val_loss: 0.0736 - val_accuracy: 0.9786\n",
            "Epoch 32/100\n",
            "20/20 [==============================] - 0s 6ms/step - loss: 0.0359 - accuracy: 0.9891 - val_loss: 0.0740 - val_accuracy: 0.9794\n",
            "Epoch 33/100\n",
            "20/20 [==============================] - 0s 7ms/step - loss: 0.0340 - accuracy: 0.9895 - val_loss: 0.0739 - val_accuracy: 0.9780\n",
            "Epoch 34/100\n",
            "20/20 [==============================] - 0s 7ms/step - loss: 0.0323 - accuracy: 0.9902 - val_loss: 0.0735 - val_accuracy: 0.9787\n",
            "Epoch 35/100\n",
            "20/20 [==============================] - 0s 7ms/step - loss: 0.0293 - accuracy: 0.9911 - val_loss: 0.0743 - val_accuracy: 0.9789\n",
            "Epoch 36/100\n",
            "20/20 [==============================] - 0s 7ms/step - loss: 0.0290 - accuracy: 0.9909 - val_loss: 0.0733 - val_accuracy: 0.9791\n",
            "Epoch 37/100\n",
            "20/20 [==============================] - 0s 7ms/step - loss: 0.0279 - accuracy: 0.9919 - val_loss: 0.0735 - val_accuracy: 0.9803\n",
            "Epoch 38/100\n",
            "20/20 [==============================] - 0s 6ms/step - loss: 0.0265 - accuracy: 0.9915 - val_loss: 0.0719 - val_accuracy: 0.9802\n",
            "Epoch 39/100\n",
            "20/20 [==============================] - 0s 7ms/step - loss: 0.0253 - accuracy: 0.9923 - val_loss: 0.0746 - val_accuracy: 0.9797\n",
            "Epoch 40/100\n",
            "20/20 [==============================] - 0s 6ms/step - loss: 0.0240 - accuracy: 0.9931 - val_loss: 0.0746 - val_accuracy: 0.9797\n",
            "Epoch 41/100\n",
            "20/20 [==============================] - 0s 7ms/step - loss: 0.0231 - accuracy: 0.9931 - val_loss: 0.0740 - val_accuracy: 0.9802\n",
            "Epoch 42/100\n",
            "20/20 [==============================] - 0s 7ms/step - loss: 0.0228 - accuracy: 0.9932 - val_loss: 0.0741 - val_accuracy: 0.9798\n",
            "Epoch 43/100\n",
            "20/20 [==============================] - 0s 7ms/step - loss: 0.0207 - accuracy: 0.9940 - val_loss: 0.0749 - val_accuracy: 0.9807\n",
            "Epoch 44/100\n",
            "20/20 [==============================] - 0s 7ms/step - loss: 0.0201 - accuracy: 0.9941 - val_loss: 0.0766 - val_accuracy: 0.9801\n",
            "Epoch 45/100\n",
            "20/20 [==============================] - 0s 9ms/step - loss: 0.0218 - accuracy: 0.9930 - val_loss: 0.0726 - val_accuracy: 0.9808\n",
            "Epoch 46/100\n",
            "20/20 [==============================] - 0s 7ms/step - loss: 0.0194 - accuracy: 0.9937 - val_loss: 0.0773 - val_accuracy: 0.9802\n",
            "Epoch 47/100\n",
            "20/20 [==============================] - 0s 6ms/step - loss: 0.0186 - accuracy: 0.9946 - val_loss: 0.0752 - val_accuracy: 0.9811\n",
            "Epoch 48/100\n",
            "20/20 [==============================] - 0s 7ms/step - loss: 0.0183 - accuracy: 0.9943 - val_loss: 0.0752 - val_accuracy: 0.9808\n",
            "Epoch 49/100\n",
            "20/20 [==============================] - 0s 7ms/step - loss: 0.0179 - accuracy: 0.9946 - val_loss: 0.0732 - val_accuracy: 0.9808\n",
            "Epoch 50/100\n",
            "20/20 [==============================] - 0s 6ms/step - loss: 0.0169 - accuracy: 0.9949 - val_loss: 0.0754 - val_accuracy: 0.9808\n",
            "Epoch 51/100\n",
            "20/20 [==============================] - 0s 7ms/step - loss: 0.0160 - accuracy: 0.9950 - val_loss: 0.0746 - val_accuracy: 0.9811\n",
            "Epoch 52/100\n",
            "20/20 [==============================] - 0s 7ms/step - loss: 0.0157 - accuracy: 0.9952 - val_loss: 0.0747 - val_accuracy: 0.9808\n",
            "Epoch 53/100\n",
            "20/20 [==============================] - 0s 6ms/step - loss: 0.0159 - accuracy: 0.9948 - val_loss: 0.0749 - val_accuracy: 0.9804\n",
            "Epoch 54/100\n",
            "20/20 [==============================] - 0s 6ms/step - loss: 0.0152 - accuracy: 0.9954 - val_loss: 0.0765 - val_accuracy: 0.9809\n",
            "Epoch 55/100\n",
            "20/20 [==============================] - 0s 7ms/step - loss: 0.0146 - accuracy: 0.9959 - val_loss: 0.0747 - val_accuracy: 0.9818\n",
            "Epoch 56/100\n",
            "20/20 [==============================] - 0s 6ms/step - loss: 0.0140 - accuracy: 0.9959 - val_loss: 0.0758 - val_accuracy: 0.9813\n",
            "Epoch 57/100\n",
            "20/20 [==============================] - 0s 7ms/step - loss: 0.0132 - accuracy: 0.9960 - val_loss: 0.0751 - val_accuracy: 0.9812\n",
            "Epoch 58/100\n",
            "20/20 [==============================] - 0s 6ms/step - loss: 0.0129 - accuracy: 0.9961 - val_loss: 0.0778 - val_accuracy: 0.9805\n",
            "Epoch 59/100\n",
            "20/20 [==============================] - 0s 7ms/step - loss: 0.0132 - accuracy: 0.9960 - val_loss: 0.0769 - val_accuracy: 0.9818\n",
            "Epoch 60/100\n",
            "20/20 [==============================] - 0s 7ms/step - loss: 0.0130 - accuracy: 0.9962 - val_loss: 0.0781 - val_accuracy: 0.9808\n",
            "Epoch 61/100\n",
            "20/20 [==============================] - 0s 7ms/step - loss: 0.0122 - accuracy: 0.9963 - val_loss: 0.0770 - val_accuracy: 0.9812\n",
            "Epoch 62/100\n",
            "20/20 [==============================] - 0s 7ms/step - loss: 0.0119 - accuracy: 0.9967 - val_loss: 0.0760 - val_accuracy: 0.9814\n",
            "Epoch 63/100\n",
            "20/20 [==============================] - 0s 7ms/step - loss: 0.0110 - accuracy: 0.9968 - val_loss: 0.0770 - val_accuracy: 0.9808\n",
            "Epoch 64/100\n",
            "20/20 [==============================] - 0s 7ms/step - loss: 0.0109 - accuracy: 0.9966 - val_loss: 0.0786 - val_accuracy: 0.9817\n",
            "Epoch 65/100\n",
            "20/20 [==============================] - 0s 7ms/step - loss: 0.0116 - accuracy: 0.9964 - val_loss: 0.0790 - val_accuracy: 0.9810\n",
            "Epoch 66/100\n",
            "20/20 [==============================] - 0s 7ms/step - loss: 0.0105 - accuracy: 0.9967 - val_loss: 0.0790 - val_accuracy: 0.9811\n",
            "Epoch 67/100\n",
            "20/20 [==============================] - 0s 6ms/step - loss: 0.0112 - accuracy: 0.9965 - val_loss: 0.0781 - val_accuracy: 0.9821\n",
            "Epoch 68/100\n",
            "20/20 [==============================] - 0s 6ms/step - loss: 0.0099 - accuracy: 0.9970 - val_loss: 0.0786 - val_accuracy: 0.9818\n",
            "Epoch 69/100\n",
            "20/20 [==============================] - 0s 7ms/step - loss: 0.0101 - accuracy: 0.9969 - val_loss: 0.0785 - val_accuracy: 0.9822\n",
            "Epoch 70/100\n",
            "20/20 [==============================] - 0s 6ms/step - loss: 0.0095 - accuracy: 0.9973 - val_loss: 0.0808 - val_accuracy: 0.9813\n",
            "Epoch 71/100\n",
            "20/20 [==============================] - 0s 7ms/step - loss: 0.0084 - accuracy: 0.9977 - val_loss: 0.0822 - val_accuracy: 0.9822\n",
            "Epoch 72/100\n",
            "20/20 [==============================] - 0s 7ms/step - loss: 0.0095 - accuracy: 0.9971 - val_loss: 0.0782 - val_accuracy: 0.9820\n",
            "Epoch 73/100\n",
            "20/20 [==============================] - 0s 7ms/step - loss: 0.0079 - accuracy: 0.9978 - val_loss: 0.0797 - val_accuracy: 0.9815\n",
            "Epoch 74/100\n",
            "20/20 [==============================] - 0s 7ms/step - loss: 0.0082 - accuracy: 0.9974 - val_loss: 0.0819 - val_accuracy: 0.9816\n",
            "Epoch 75/100\n",
            "20/20 [==============================] - 0s 7ms/step - loss: 0.0091 - accuracy: 0.9973 - val_loss: 0.0828 - val_accuracy: 0.9812\n",
            "Epoch 76/100\n",
            "20/20 [==============================] - 0s 7ms/step - loss: 0.0087 - accuracy: 0.9973 - val_loss: 0.0831 - val_accuracy: 0.9821\n",
            "Epoch 77/100\n",
            "20/20 [==============================] - 0s 7ms/step - loss: 0.0088 - accuracy: 0.9973 - val_loss: 0.0819 - val_accuracy: 0.9818\n",
            "Epoch 78/100\n",
            "20/20 [==============================] - 0s 7ms/step - loss: 0.0075 - accuracy: 0.9979 - val_loss: 0.0832 - val_accuracy: 0.9813\n",
            "Epoch 79/100\n",
            "20/20 [==============================] - 0s 7ms/step - loss: 0.0079 - accuracy: 0.9979 - val_loss: 0.0816 - val_accuracy: 0.9812\n",
            "Epoch 80/100\n",
            "20/20 [==============================] - 0s 7ms/step - loss: 0.0079 - accuracy: 0.9975 - val_loss: 0.0829 - val_accuracy: 0.9815\n",
            "Epoch 81/100\n",
            "20/20 [==============================] - 0s 7ms/step - loss: 0.0071 - accuracy: 0.9979 - val_loss: 0.0796 - val_accuracy: 0.9816\n",
            "Epoch 82/100\n",
            "20/20 [==============================] - 0s 6ms/step - loss: 0.0076 - accuracy: 0.9977 - val_loss: 0.0818 - val_accuracy: 0.9826\n",
            "Epoch 83/100\n",
            "20/20 [==============================] - 0s 7ms/step - loss: 0.0071 - accuracy: 0.9976 - val_loss: 0.0802 - val_accuracy: 0.9812\n",
            "Epoch 84/100\n",
            "20/20 [==============================] - 0s 7ms/step - loss: 0.0070 - accuracy: 0.9982 - val_loss: 0.0821 - val_accuracy: 0.9819\n",
            "Epoch 85/100\n",
            "20/20 [==============================] - 0s 7ms/step - loss: 0.0063 - accuracy: 0.9982 - val_loss: 0.0842 - val_accuracy: 0.9813\n",
            "Epoch 86/100\n",
            "20/20 [==============================] - 0s 7ms/step - loss: 0.0074 - accuracy: 0.9979 - val_loss: 0.0830 - val_accuracy: 0.9813\n",
            "Epoch 87/100\n",
            "20/20 [==============================] - 0s 8ms/step - loss: 0.0070 - accuracy: 0.9981 - val_loss: 0.0839 - val_accuracy: 0.9822\n",
            "Epoch 88/100\n",
            "20/20 [==============================] - 0s 7ms/step - loss: 0.0067 - accuracy: 0.9980 - val_loss: 0.0834 - val_accuracy: 0.9824\n",
            "Epoch 89/100\n",
            "20/20 [==============================] - 0s 7ms/step - loss: 0.0077 - accuracy: 0.9975 - val_loss: 0.0836 - val_accuracy: 0.9815\n",
            "Epoch 90/100\n",
            "20/20 [==============================] - 0s 7ms/step - loss: 0.0070 - accuracy: 0.9980 - val_loss: 0.0848 - val_accuracy: 0.9818\n",
            "Epoch 91/100\n",
            "20/20 [==============================] - 0s 7ms/step - loss: 0.0059 - accuracy: 0.9984 - val_loss: 0.0844 - val_accuracy: 0.9822\n",
            "Epoch 92/100\n",
            "20/20 [==============================] - 0s 7ms/step - loss: 0.0061 - accuracy: 0.9983 - val_loss: 0.0883 - val_accuracy: 0.9804\n",
            "Epoch 93/100\n",
            "20/20 [==============================] - 0s 7ms/step - loss: 0.0065 - accuracy: 0.9979 - val_loss: 0.0843 - val_accuracy: 0.9817\n",
            "Epoch 94/100\n",
            "20/20 [==============================] - 0s 7ms/step - loss: 0.0058 - accuracy: 0.9983 - val_loss: 0.0865 - val_accuracy: 0.9813\n",
            "Epoch 95/100\n",
            "20/20 [==============================] - 0s 7ms/step - loss: 0.0056 - accuracy: 0.9985 - val_loss: 0.0869 - val_accuracy: 0.9822\n",
            "Epoch 96/100\n",
            "20/20 [==============================] - 0s 6ms/step - loss: 0.0057 - accuracy: 0.9983 - val_loss: 0.0871 - val_accuracy: 0.9816\n",
            "Epoch 97/100\n",
            "20/20 [==============================] - 0s 7ms/step - loss: 0.0056 - accuracy: 0.9984 - val_loss: 0.0870 - val_accuracy: 0.9808\n",
            "Epoch 98/100\n",
            "20/20 [==============================] - 0s 7ms/step - loss: 0.0060 - accuracy: 0.9982 - val_loss: 0.0875 - val_accuracy: 0.9813\n",
            "Epoch 99/100\n",
            "20/20 [==============================] - 0s 6ms/step - loss: 0.0057 - accuracy: 0.9982 - val_loss: 0.0879 - val_accuracy: 0.9812\n",
            "Epoch 100/100\n",
            "20/20 [==============================] - 0s 6ms/step - loss: 0.0058 - accuracy: 0.9982 - val_loss: 0.0860 - val_accuracy: 0.9815\n"
          ]
        }
      ]
    },
    {
      "cell_type": "code",
      "source": [
        "plt.plot(history.history['accuracy'])\n",
        "plt.plot(history.history['val_accuracy'])\n",
        "plt.title('model accuracy')\n",
        "plt.ylabel('accuracy')\n",
        "plt.xlabel('epoch')\n",
        "plt.legend(['train', 'val'], loc='upper left')\n",
        "plt.grid()\n",
        "plt.show()"
      ],
      "metadata": {
        "id": "L7ZfpalGv6Ww",
        "outputId": "5656a622-a9d4-453b-e269-be902d39aa70",
        "colab": {
          "base_uri": "https://localhost:8080/",
          "height": 472
        }
      },
      "execution_count": 440,
      "outputs": [
        {
          "output_type": "display_data",
          "data": {
            "text/plain": [
              "<Figure size 640x480 with 1 Axes>"
            ],
            "image/png": "[encoded data removed]"
          },
          "metadata": {}
        }
      ]
    },
    {
      "cell_type": "code",
      "source": [
        "eval = model.evaluate(x_test, y_test, verbose=2)\n",
        "for name, ev in zip(model.metrics_names, eval):\n",
        "    print(name, ev)"
      ],
      "metadata": {
        "colab": {
          "base_uri": "https://localhost:8080/"
        },
        "id": "zj1fYD-zL8C9",
        "outputId": "5f85a6ec-176c-4169-f92e-83fc55122a5b"
      },
      "execution_count": 441,
      "outputs": [
        {
          "output_type": "stream",
          "name": "stdout",
          "text": [
            "313/313 - 1s - loss: 0.0749 - accuracy: 0.9831 - 1s/epoch - 3ms/step\n",
            "loss 0.07493793964385986\n",
            "accuracy 0.9830999970436096\n"
          ]
        }
      ]
    },
    {
      "cell_type": "code",
      "source": [
        "tf.math.confusion_matrix(y_test, tf.argmax(model(x_test), axis=1))"
      ],
      "metadata": {
        "colab": {
          "base_uri": "https://localhost:8080/"
        },
        "id": "lkjoVuzGL-06",
        "outputId": "07c3a8ff-0cef-4572-a5db-74157b267ab1"
      },
      "execution_count": 442,
      "outputs": [
        {
          "output_type": "execute_result",
          "data": {
            "text/plain": [
              "<tf.Tensor: shape=(10, 10), dtype=int32, numpy=\n",
              "array([[ 972,    0,    2,    1,    0,    2,    2,    1,    0,    0],\n",
              "       [   0, 1125,    4,    0,    0,    1,    2,    1,    2,    0],\n",
              "       [   2,    2, 1017,    3,    1,    0,    1,    4,    2,    0],\n",
              "       [   1,    0,    2,  993,    0,    4,    0,    3,    2,    5],\n",
              "       [   0,    0,    4,    0,  966,    0,    3,    2,    1,    6],\n",
              "       [   3,    0,    0,    7,    1,  875,    3,    0,    2,    1],\n",
              "       [   5,    2,    2,    1,    4,    4,  940,    0,    0,    0],\n",
              "       [   1,    4,   10,    1,    0,    0,    0, 1008,    2,    2],\n",
              "       [   3,    0,    3,    4,    3,    4,    1,    3,  949,    4],\n",
              "       [   3,    2,    0,    3,    6,    2,    0,    7,    0,  986]],\n",
              "      dtype=int32)>"
            ]
          },
          "metadata": {},
          "execution_count": 442
        }
      ]
    },
    {
      "cell_type": "markdown",
      "source": [
        "# Convert model to TFLite"
      ],
      "metadata": {
        "id": "BWMULlXata61"
      }
    },
    {
      "cell_type": "markdown",
      "source": [
        "openmv passes a 28x28x1 tensor, not 28x28 - so we need to add a reshape"
      ],
      "metadata": {
        "id": "t_x7zlufuoJB"
      }
    },
    {
      "cell_type": "code",
      "source": [
        "openmv_model = tf.keras.Sequential(\n",
        "    [\n",
        "        tf.keras.layers.Reshape((28, 28), input_shape=(28, 28, 1)),\n",
        "        model,\n",
        "    ]\n",
        ")"
      ],
      "metadata": {
        "id": "BQrMPWs5tX6C"
      },
      "execution_count": 443,
      "outputs": []
    },
    {
      "cell_type": "markdown",
      "source": [
        "quantize the model"
      ],
      "metadata": {
        "id": "hvXGmuM5uuTl"
      }
    },
    {
      "cell_type": "code",
      "source": [
        "def representative_dataset():\n",
        "    for image in x_test:\n",
        "        img = tf.expand_dims(image, axis=2)\n",
        "        yield [np.array([[img]], dtype=np.float32)]\n",
        "\n",
        "converter = tf.lite.TFLiteConverter.from_keras_model(openmv_model)\n",
        "converter.optimizations = [tf.lite.Optimize.DEFAULT]\n",
        "converter.representative_dataset = representative_dataset\n",
        "\n",
        "converter.target_spec.supported_ops = [tf.lite.OpsSet.TFLITE_BUILTINS_INT8]\n",
        "converter.inference_input_type = tf.int8\n",
        "converter.inference_output_type = tf.int8\n",
        "\n",
        "tflite_quant_model = converter.convert()"
      ],
      "metadata": {
        "colab": {
          "base_uri": "https://localhost:8080/"
        },
        "id": "-fNapZbfMBA6",
        "outputId": "720b2500-2592-4779-f5a9-1df6bf741ba9"
      },
      "execution_count": 444,
      "outputs": [
        {
          "output_type": "stream",
          "name": "stderr",
          "text": [
            "/usr/local/lib/python3.10/dist-packages/tensorflow/lite/python/convert.py:789: UserWarning: Statistics for quantized inputs were expected, but not specified; continuing anyway.\n",
            "  warnings.warn(\"Statistics for quantized inputs were expected, but not \"\n"
          ]
        }
      ]
    },
    {
      "cell_type": "markdown",
      "source": [
        "save the model"
      ],
      "metadata": {
        "id": "znXTlM0auw-N"
      }
    },
    {
      "cell_type": "code",
      "source": [
        "with open(\"model.tflite\", \"wb\") as output:\n",
        "    print(\"size:\", len(tflite_quant_model))\n",
        "    output.write(tflite_quant_model);"
      ],
      "metadata": {
        "colab": {
          "base_uri": "https://localhost:8080/"
        },
        "id": "a1AgsisBMCEv",
        "outputId": "58650920-64a4-4472-84f8-d95d94506d67"
      },
      "execution_count": 445,
      "outputs": [
        {
          "output_type": "stream",
          "name": "stdout",
          "text": [
            "size: 239208\n"
          ]
        }
      ]
    },
    {
      "cell_type": "code",
      "source": [],
      "metadata": {
        "id": "poAwU8Oyu1no"
      },
      "execution_count": 445,
      "outputs": []
    }
  ]
}