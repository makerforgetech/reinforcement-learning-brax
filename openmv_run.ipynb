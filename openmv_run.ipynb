{
  "nbformat": 4,
  "nbformat_minor": 0,
  "metadata": {
    "colab": {
      "provenance": [],
      "authorship_tag": "ABX9TyM4wCYzrRlrt6fUnw47LOPh",
      "include_colab_link": true
    },
    "kernelspec": {
      "name": "python3",
      "display_name": "Python 3"
    },
    "language_info": {
      "name": "python"
    }
  },
  "cells": [
    {
      "cell_type": "markdown",
      "metadata": {
        "id": "view-in-github",
        "colab_type": "text"
      },
      "source": [
        "<a href=\"https://colab.research.google.com/github/sergiynesterenko90/feranec/blob/main/openmv_run.ipynb\" target=\"_parent\"><img src=\"https://colab.research.google.com/assets/colab-badge.svg\" alt=\"Open In Colab\"/></a>"
      ]
    },
    {
      "cell_type": "code",
      "execution_count": null,
      "metadata": {
        "id": "dssojsZjSdt2"
      },
      "outputs": [],
      "source": [
        "import sensor\n",
        "import tf\n",
        "\n",
        "# Load the TensorFlow Lite model from the SD card\n",
        "model = tf.load(\"model.tflite\", load_to_fb=True)\n",
        "\n",
        "# setup the camera sensor\n",
        "sensor.reset()\n",
        "\n",
        "# Set pixel format to GRAYSCALE\n",
        "sensor.set_pixformat(sensor.GRAYSCALE)\n",
        "\n",
        "sensor.set_framesize(sensor.B320X320)\n",
        "\n",
        "# Wait 2s for settings take effect\n",
        "sensor.skip_frames(time=2000)\n",
        "\n",
        "# main loop\n",
        "while True:\n",
        "    # get an image from the camera sensor\n",
        "    img = sensor.snapshot()\n",
        "    img.lens_corr(1.8)  # strength of 1.8 is good for the 2.8mm lens.\n",
        "\n",
        "    img.scale(0.1, 0.1)\n",
        "\n",
        "    img.crop(roi=(0, 0, 27, 27))\n",
        "\n",
        "    img.mul(img.binary([(240, 255)]))\n",
        "\n",
        "    # get the model output for the image\n",
        "    classification_result = model.classify(img)\n",
        "    model_output = classification_result[0].output()\n",
        "\n",
        "    second_highest_index = -1\n",
        "    max_index = 0\n",
        "    list_len = len(model_output)\n",
        "    for index in range(list_len):\n",
        "        if model_output[index] > model_output[max_index]:\n",
        "            second_highest_index = max_index\n",
        "            max_index = index\n",
        "\n",
        "    print(\"Index of the maximum element is:\", max_index)"
      ]
    }
  ]
}